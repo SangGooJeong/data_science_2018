{
 "cells": [
  {
   "cell_type": "code",
   "execution_count": 2,
   "metadata": {},
   "outputs": [
    {
     "name": "stdout",
     "output_type": "stream",
     "text": [
      "5\n",
      "4\n",
      "3\n",
      "2\n",
      "1\n",
      "hey!\n"
     ]
    }
   ],
   "source": [
    "for countdown in 5,4,3,2,1, \"hey!\":\n",
    "    print (countdown)\n"
   ]
  },
  {
   "cell_type": "code",
   "execution_count": 11,
   "metadata": {},
   "outputs": [
    {
     "name": "stdout",
     "output_type": "stream",
     "text": [
      "Be that as it may\n"
     ]
    }
   ],
   "source": [
    "cliches = [ \n",
    "    \"at the end of the day\",\n",
    "    \"having said that\",\n",
    "    \"the fact of the matters is\",\n",
    "    \"Be that as it may\",\n",
    "    \"The bottom line is\",\n",
    "    \"If you will\"\n",
    "]\n",
    "print(cliches[3])"
   ]
  },
  {
   "cell_type": "markdown",
   "metadata": {},
   "source": [
    "Python code sequence number start from '0' "
   ]
  },
  {
   "cell_type": "code",
   "execution_count": 14,
   "metadata": {},
   "outputs": [
    {
     "name": "stdout",
     "output_type": "stream",
     "text": [
      "Curly says :  Nyuk nyuk!\n"
     ]
    }
   ],
   "source": [
    "quote = {\n",
    "    \"Moe\":\"A wise guy, huh?\",\n",
    "    \"Larry\": \"OW!\",\n",
    "    \"Curly\": \"Nyuk nyuk!\"\n",
    "}\n",
    "stooge = \"Curly\"\n",
    "print (stooge, \"says : \", quote[stooge])"
   ]
  },
  {
   "cell_type": "code",
   "execution_count": null,
   "metadata": {},
   "outputs": [],
   "source": []
  }
 ],
 "metadata": {
  "kernelspec": {
   "display_name": "Python 3",
   "language": "python",
   "name": "python3"
  },
  "language_info": {
   "codemirror_mode": {
    "name": "ipython",
    "version": 3
   },
   "file_extension": ".py",
   "mimetype": "text/x-python",
   "name": "python",
   "nbconvert_exporter": "python",
   "pygments_lexer": "ipython3",
   "version": "3.6.4"
  }
 },
 "nbformat": 4,
 "nbformat_minor": 2
}
